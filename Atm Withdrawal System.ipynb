{
 "cells": [
  {
   "cell_type": "code",
   "execution_count": 7,
   "id": "d6bcbd5e-e83c-4373-ba8d-ac0b7f4f3320",
   "metadata": {},
   "outputs": [
    {
     "name": "stdout",
     "output_type": "stream",
     "text": [
      "===== Welcome to Python ATM =====\n"
     ]
    },
    {
     "name": "stdin",
     "output_type": "stream",
     "text": [
      "Enter Account Number:  1\n",
      "Enter PIN:  2727\n"
     ]
    },
    {
     "name": "stdout",
     "output_type": "stream",
     "text": [
      "✅ Welcome Rakshit!\n",
      "\n",
      "========= ATM Menu =========\n",
      "1. Check Balance\n",
      "2. Deposit\n",
      "3. Withdraw\n",
      "4. Exit\n"
     ]
    },
    {
     "name": "stdin",
     "output_type": "stream",
     "text": [
      "Enter choice (1-4):  1\n"
     ]
    },
    {
     "name": "stdout",
     "output_type": "stream",
     "text": [
      "💰 Current Balance: ₹4000.0\n",
      "\n",
      "========= ATM Menu =========\n",
      "1. Check Balance\n",
      "2. Deposit\n",
      "3. Withdraw\n",
      "4. Exit\n"
     ]
    },
    {
     "name": "stdin",
     "output_type": "stream",
     "text": [
      "Enter choice (1-4):  2\n",
      "Enter amount to deposit: ₹ 2000\n"
     ]
    },
    {
     "name": "stdout",
     "output_type": "stream",
     "text": [
      "💵 ₹2000.0 deposited successfully.\n",
      "💰 Current Balance: ₹6000.0\n",
      "\n",
      "========= ATM Menu =========\n",
      "1. Check Balance\n",
      "2. Deposit\n",
      "3. Withdraw\n",
      "4. Exit\n"
     ]
    },
    {
     "name": "stdin",
     "output_type": "stream",
     "text": [
      "Enter choice (1-4):  3\n",
      "Enter amount to withdraw: ₹ 3000\n"
     ]
    },
    {
     "name": "stdout",
     "output_type": "stream",
     "text": [
      "🏧 ₹3000.0 withdrawn successfully.\n",
      "💰 Current Balance: ₹3000.0\n",
      "\n",
      "========= ATM Menu =========\n",
      "1. Check Balance\n",
      "2. Deposit\n",
      "3. Withdraw\n",
      "4. Exit\n"
     ]
    },
    {
     "name": "stdin",
     "output_type": "stream",
     "text": [
      "Enter choice (1-4):  4\n"
     ]
    },
    {
     "name": "stdout",
     "output_type": "stream",
     "text": [
      "👋 Thank you for using the ATM!\n"
     ]
    }
   ],
   "source": [
    "import sqlite3\n",
    "\n",
    "# Step 1: Connect to SQLite DB\n",
    "conn = sqlite3.connect(\"atm.db\")\n",
    "cur = conn.cursor()\n",
    "\n",
    "# Step 2: Create Table (only once)\n",
    "cur.execute(\"\"\"\n",
    "CREATE TABLE IF NOT EXISTS accounts (\n",
    "    acc_no INTEGER PRIMARY KEY AUTOINCREMENT,\n",
    "    name TEXT NOT NULL,\n",
    "    pin TEXT NOT NULL,\n",
    "    balance REAL DEFAULT 0\n",
    ")\n",
    "\"\"\")\n",
    "conn.commit()\n",
    "\n",
    "# Step 3: Create Account Function\n",
    "def create_account(name, pin, balance):\n",
    "    cur.execute(\"INSERT INTO accounts (name, pin, balance) VALUES (?, ?, ?)\", (name, pin, balance))\n",
    "    conn.commit()\n",
    "    print(\"✅ Account created successfully!\")\n",
    "\n",
    "# Step 4: Login Function\n",
    "def login(acc_no, pin):\n",
    "    cur.execute(\"SELECT * FROM accounts WHERE acc_no=? AND pin=?\", (acc_no, pin))\n",
    "    return cur.fetchone()\n",
    "\n",
    "# Step 5: Check Balance\n",
    "def check_balance(acc_no):\n",
    "    cur.execute(\"SELECT balance FROM accounts WHERE acc_no=?\", (acc_no,))\n",
    "    bal = cur.fetchone()[0]\n",
    "    print(f\"💰 Current Balance: ₹{bal}\")\n",
    "\n",
    "# Step 6: Deposit\n",
    "def deposit(acc_no, amount):\n",
    "    cur.execute(\"UPDATE accounts SET balance = balance + ? WHERE acc_no=?\", (amount, acc_no))\n",
    "    conn.commit()\n",
    "    print(f\"💵 ₹{amount} deposited successfully.\")\n",
    "    check_balance(acc_no)\n",
    "\n",
    "# Step 7: Withdraw\n",
    "def withdraw(acc_no, amount):\n",
    "    cur.execute(\"SELECT balance FROM accounts WHERE acc_no=?\", (acc_no,))\n",
    "    bal = cur.fetchone()[0]\n",
    "    if amount > bal:\n",
    "        print(\"❌ Insufficient balance!\")\n",
    "    else:\n",
    "        cur.execute(\"UPDATE accounts SET balance = balance - ? WHERE acc_no=?\", (amount, acc_no))\n",
    "        conn.commit()\n",
    "        print(f\"🏧 ₹{amount} withdrawn successfully.\")\n",
    "        check_balance(acc_no)\n",
    "\n",
    "# Step 8: Main ATM Menu\n",
    "def atm_menu(user):\n",
    "    while True:\n",
    "        print(\"\\n========= ATM Menu =========\")\n",
    "        print(\"1. Check Balance\")\n",
    "        print(\"2. Deposit\")\n",
    "        print(\"3. Withdraw\")\n",
    "        print(\"4. Exit\")\n",
    "\n",
    "        choice = input(\"Enter choice (1-4): \")\n",
    "\n",
    "        if choice == '1':\n",
    "            check_balance(user[0])\n",
    "        elif choice == '2':\n",
    "            try:\n",
    "                amt = float(input(\"Enter amount to deposit: ₹\"))\n",
    "                deposit(user[0], amt)\n",
    "            except ValueError:\n",
    "                print(\"❌ Invalid input. Enter a number.\")\n",
    "        elif choice == '3':\n",
    "            try:\n",
    "                amt = float(input(\"Enter amount to withdraw: ₹\"))\n",
    "                withdraw(user[0], amt)\n",
    "            except ValueError:\n",
    "                print(\"❌ Invalid input. Enter a number.\")\n",
    "        elif choice == '4':\n",
    "            print(\"👋 Thank you for using the ATM!\")\n",
    "            break\n",
    "        else:\n",
    "            print(\"❌ Invalid choice. Please select from 1 to 4.\")\n",
    "\n",
    "# Step 9: Create Rakshit’s Account (Run only once, then comment)\n",
    "# create_account(\"Rakshit\", \"2727\", 5000)\n",
    "\n",
    "# Step 10: Start ATM Program\n",
    "print(\"===== Welcome to Python ATM =====\")\n",
    "acc = input(\"Enter Account Number: \")\n",
    "pin = input(\"Enter PIN: \")\n",
    "\n",
    "user = login(acc, pin)\n",
    "if user:\n",
    "    print(f\"✅ Welcome {user[1]}!\")\n",
    "    atm_menu(user)\n",
    "else:\n",
    "    print(\"❌ Invalid credentials. Please try again.\")\n"
   ]
  },
  {
   "cell_type": "code",
   "execution_count": null,
   "id": "8c1247ac-7d3c-48f0-96ea-f241ed43663a",
   "metadata": {},
   "outputs": [],
   "source": []
  }
 ],
 "metadata": {
  "kernelspec": {
   "display_name": "Python 3 (ipykernel)",
   "language": "python",
   "name": "python3"
  },
  "language_info": {
   "codemirror_mode": {
    "name": "ipython",
    "version": 3
   },
   "file_extension": ".py",
   "mimetype": "text/x-python",
   "name": "python",
   "nbconvert_exporter": "python",
   "pygments_lexer": "ipython3",
   "version": "3.13.5"
  }
 },
 "nbformat": 4,
 "nbformat_minor": 5
}
