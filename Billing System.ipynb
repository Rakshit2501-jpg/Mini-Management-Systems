{
 "cells": [
  {
   "cell_type": "code",
   "execution_count": 6,
   "id": "e6515145-86fe-48a1-98f3-7ae7f511e965",
   "metadata": {},
   "outputs": [],
   "source": [
    "import sqlite3\n",
    "\n",
    "conn = sqlite3.connect(\"billing.db\")\n",
    "cur = conn.cursor()\n",
    "\n",
    "cur.execute('''\n",
    "CREATE TABLE IF NOT EXISTS products (\n",
    "    id INTEGER PRIMARY KEY AUTOINCREMENT,\n",
    "    name TEXT,\n",
    "    price REAL\n",
    ")\n",
    "''')\n",
    "cur.execute('''\n",
    "CREATE TABLE IF NOT EXISTS cart (\n",
    "    id INTEGER PRIMARY KEY AUTOINCREMENT,\n",
    "    product_id INTEGER,\n",
    "    quantity INTEGER\n",
    ")\n",
    "''')\n",
    "conn.commit()\n"
   ]
  },
  {
   "cell_type": "code",
   "execution_count": 7,
   "id": "3daf8c5f-6538-47ef-8554-e25172dd751f",
   "metadata": {},
   "outputs": [],
   "source": [
    "def add_product(name, price):\n",
    "    cur.execute(\"INSERT INTO products (name, price) VALUES (?, ?)\", (name, price))\n",
    "    conn.commit()\n",
    "    print(\"✅ Product added successfully.\")\n",
    "\n",
    "def show_products():\n",
    "    cur.execute(\"SELECT * FROM products\")\n",
    "    products = cur.fetchall()\n",
    "    print(\"\\n🛒 Available Products:\")\n",
    "    for p in products:\n",
    "        print(f\"ID: {p[0]} | Name: {p[1]} | Price: ₹{p[2]}\")\n",
    "\n",
    "def purchase_product(prod_id, qty):\n",
    "    cur.execute(\"INSERT INTO cart (product_id, quantity) VALUES (?, ?)\", (prod_id, qty))\n",
    "    conn.commit()\n",
    "    print(\"🛍️ Added to cart!\")\n",
    "\n",
    "def show_bill():\n",
    "    cur.execute('''\n",
    "    SELECT products.name, products.price, cart.quantity, \n",
    "           (products.price * cart.quantity) as total \n",
    "    FROM cart \n",
    "    JOIN products ON products.id = cart.product_id\n",
    "    ''')\n",
    "    items = cur.fetchall()\n",
    "    grand_total = 0\n",
    "    print(\"\\n🧾 Final Bill:\")\n",
    "    for item in items:\n",
    "        name, price, qty, total = item\n",
    "        print(f\"{name} | ₹{price} x {qty} = ₹{total}\")\n",
    "        grand_total += total\n",
    "    print(f\"\\n💰 Grand Total: ₹{grand_total}\")\n"
   ]
  },
  {
   "cell_type": "code",
   "execution_count": 8,
   "id": "11fd7cbb-96cd-489f-b162-51078beb45e5",
   "metadata": {},
   "outputs": [
    {
     "name": "stdout",
     "output_type": "stream",
     "text": [
      "✅ Product added successfully.\n",
      "✅ Product added successfully.\n",
      "✅ Product added successfully.\n",
      "\n",
      "🛒 Available Products:\n",
      "ID: 1 | Name: Milk | Price: ₹25.0\n",
      "ID: 2 | Name: Chips | Price: ₹10.0\n",
      "ID: 3 | Name: Ice Cream | Price: ₹40.0\n",
      "🛍️ Added to cart!\n",
      "🛍️ Added to cart!\n",
      "\n",
      "🧾 Final Bill:\n",
      "Milk | ₹25.0 x 2 = ₹50.0\n",
      "Ice Cream | ₹40.0 x 1 = ₹40.0\n",
      "\n",
      "💰 Grand Total: ₹90.0\n"
     ]
    }
   ],
   "source": [
    "# Add sample products\n",
    "add_product(\"Milk\", 25)\n",
    "add_product(\"Chips\", 10)\n",
    "add_product(\"Ice Cream\", 40)\n",
    "\n",
    "# Show products\n",
    "show_products()\n",
    "\n",
    "# Add to cart\n",
    "purchase_product(1, 2)  # 2 Milk\n",
    "purchase_product(3, 1)  # 1 Ice Cream\n",
    "\n",
    "# Show final bill\n",
    "show_bill()\n"
   ]
  }
 ],
 "metadata": {
  "kernelspec": {
   "display_name": "Python 3 (ipykernel)",
   "language": "python",
   "name": "python3"
  },
  "language_info": {
   "codemirror_mode": {
    "name": "ipython",
    "version": 3
   },
   "file_extension": ".py",
   "mimetype": "text/x-python",
   "name": "python",
   "nbconvert_exporter": "python",
   "pygments_lexer": "ipython3",
   "version": "3.13.5"
  }
 },
 "nbformat": 4,
 "nbformat_minor": 5
}
